{
 "cells": [
  {
   "cell_type": "markdown",
   "metadata": {},
   "source": [
    "_Data comes from **MIG/DualData**_"
   ]
  },
  {
   "cell_type": "code",
   "execution_count": 1,
   "metadata": {
    "collapsed": true
   },
   "outputs": [],
   "source": [
    "import numpy as np\n",
    "import matplotlib.pyplot as plt\n",
    "import pandas as pd\n",
    "import pdb\n",
    "\n",
    "from collections import namedtuple\n",
    "from argparse import ArgumentParser\n",
    "from path import Path\n",
    "from IPython.display import display"
   ]
  },
  {
   "cell_type": "code",
   "execution_count": 2,
   "metadata": {
    "collapsed": true
   },
   "outputs": [],
   "source": [
    "plt.style.use('ggplot')\n",
    "plt.figure()\n",
    "pd.set_option('display.max_columns', 50)\n",
    "\n",
    "# File name / Environment / Crowd / AI\n",
    "Simset = namedtuple(\"Simset\", [\"Name\",\"Envs\",\"Crowd\",\"AI\"])\n",
    "boolmap = lambda x:bool(int(x))\n",
    "Situs = [\n",
    "    Simset(\"All\", *map(boolmap,\"111\")),\n",
    "    Simset(\"Environment\", *map(boolmap,\"100\")),\n",
    "    Simset(\"Crowd\", *map(boolmap,\"010\")),\n",
    "    Simset(\"AI\", *map(boolmap,\"001\")),\n",
    "]\n",
    "\n",
    "current = Situs[0] "
   ]
  },
  {
   "cell_type": "code",
   "execution_count": 3,
   "metadata": {
    "collapsed": true
   },
   "outputs": [],
   "source": [
    "def parseLogfile(filename):\n",
    "    benchmark = pd.read_table(filename, sep=' ', skiprows=1)\n",
    "    benchmark = benchmark[benchmark[\"frames\"] < benchmark[\"frames\"].max()]\n",
    "    \n",
    "    value_col_names = [\"hashing\", \"time_avg\", \"len_avg\", \"ple_avg\", \"cls_avg\"]\n",
    "    col_names = [col_name for col_name in benchmark.columns if \n",
    "        (col_name.endswith(\"th_obstacle\") and current.Envs) or\n",
    "        (col_name.endswith(\"th_region\") and current.Crowd) or\n",
    "        (col_name.endswith(\"th_ai\") and current.AI)]\n",
    "    \n",
    "    # Modifing & extracting datas\n",
    "    benchmark.loc[:, \"hashing\"] = benchmark[col_names].apply(\n",
    "        lambda x: hash(tuple(x)),axis=1)\n",
    "    benchmark.loc[:, \"time_avg\"] = (\n",
    "        benchmark[\"agent_time_enableds\"].apply(\n",
    "        lambda x: pd.Series(x.strip(\"( )\").split(','), dtype=float).mean()))\n",
    "    benchmark.loc[:, \"len_avg\"] = (\n",
    "        benchmark[\"agent_distance_traveleds\"].apply(\n",
    "        lambda x: pd.Series(x.strip(\"( )\").split(','), dtype=float).mean()))\n",
    "    benchmark.loc[:, \"ple_avg\"] = (\n",
    "        benchmark[\"agent_ple_energys\"].apply(\n",
    "        lambda x: pd.Series(x.strip(\"( )\").split(','), dtype=float).mean()))\n",
    "    benchmark.loc[:, \"cls_avg\"] = (\n",
    "        benchmark[\"collisionTimes\"].apply(\n",
    "        lambda x: pd.Series(x.strip(\"( )\").split(','), dtype=float).mean()))\n",
    "\n",
    "    sampleSet = benchmark[col_names + value_col_names]\n",
    "    sample1, sample2 = sampleSet.iloc[::2], sampleSet.iloc[1::2]\n",
    "\n",
    "    sample1.set_index('hashing', inplace=True)\n",
    "    sample2.set_index('hashing', inplace=True)\n",
    "    \n",
    "    print(\"Dual trail\")\n",
    "    print(\"len of dataset\", len((sample1-sample2).dropna())*2)\n",
    "    print( (sample1-sample2).dropna().apply(np.std, ddof=1)\n",
    "      .loc[value_col_names[1:]].to_frame() )\n",
    "    \n",
    "    print(\"Varience test\")\n",
    "    print(sampleSet.apply(np.std, ddof=1).loc[value_col_names[1:]].to_frame())\n",
    "    \n",
    "    print(\"Mean Value test\")\n",
    "    print(sampleSet.apply(np.mean).loc[value_col_names[1:]].to_frame())"
   ]
  },
  {
   "cell_type": "code",
   "execution_count": 5,
   "metadata": {},
   "outputs": [
    {
     "name": "stdout",
     "output_type": "stream",
     "text": [
      "./MapB-ORCA-All-d.log\n",
      "Dual trail\n",
      "len of dataset 6722\n",
      "                 0\n",
      "time_avg  1.350545\n",
      "len_avg   1.352537\n",
      "ple_avg   5.755862\n",
      "cls_avg   1.498189\n",
      "Varience test\n",
      "                  0\n",
      "time_avg  22.934473\n",
      "len_avg    7.974885\n",
      "ple_avg   29.555360\n",
      "cls_avg    3.644443\n",
      "Mean Value test\n",
      "                   0\n",
      "time_avg  101.767456\n",
      "len_avg   136.234687\n",
      "ple_avg   474.022301\n",
      "cls_avg    13.722719\n",
      "--------------------\n",
      "./MapB-SF-All-d.log\n",
      "Dual trail\n",
      "len of dataset 6752\n",
      "                 0\n",
      "time_avg  0.957641\n",
      "len_avg   1.098175\n",
      "ple_avg   3.839390\n",
      "cls_avg   0.985135\n",
      "Varience test\n",
      "                  0\n",
      "time_avg  11.543820\n",
      "len_avg    7.695140\n",
      "ple_avg   26.705820\n",
      "cls_avg    3.529038\n",
      "Mean Value test\n",
      "                   0\n",
      "time_avg  108.850866\n",
      "len_avg   135.354259\n",
      "ple_avg   459.898771\n",
      "cls_avg     1.697489\n",
      "--------------------\n",
      "./MapA-ORCA-All-d.log\n",
      "Dual trail\n",
      "len of dataset 5840\n",
      "                  0\n",
      "time_avg   2.725200\n",
      "len_avg    2.625872\n",
      "ple_avg   10.079845\n",
      "cls_avg    3.758721\n",
      "Varience test\n",
      "                  0\n",
      "time_avg  26.016909\n",
      "len_avg   10.339613\n",
      "ple_avg   39.649243\n",
      "cls_avg    9.141296\n",
      "Mean Value test\n",
      "                   0\n",
      "time_avg   85.495068\n",
      "len_avg   101.815239\n",
      "ple_avg   361.717845\n",
      "cls_avg    22.742818\n",
      "--------------------\n",
      "./MapA-SF-All-d.log\n",
      "Dual trail\n",
      "len of dataset 9410\n",
      "                 0\n",
      "time_avg  2.635077\n",
      "len_avg   2.560497\n",
      "ple_avg   9.522315\n",
      "cls_avg   4.874372\n",
      "Varience test\n",
      "                  0\n",
      "time_avg  19.447062\n",
      "len_avg    9.567375\n",
      "ple_avg   35.593367\n",
      "cls_avg   18.506804\n",
      "Mean Value test\n",
      "                   0\n",
      "time_avg   94.857620\n",
      "len_avg   103.028125\n",
      "ple_avg   362.815141\n",
      "cls_avg    10.790161\n",
      "--------------------\n"
     ]
    }
   ],
   "source": [
    "for file in Path(\".\").glob(\"*.log\"):\n",
    "    print(file)\n",
    "    parseLogfile(file)\n",
    "    print(\"-\"*20)"
   ]
  },
  {
   "cell_type": "code",
   "execution_count": null,
   "metadata": {
    "collapsed": true
   },
   "outputs": [],
   "source": []
  }
 ],
 "metadata": {
  "kernelspec": {
   "display_name": "Python 3",
   "language": "python",
   "name": "python3"
  },
  "language_info": {
   "codemirror_mode": {
    "name": "ipython",
    "version": 3
   },
   "file_extension": ".py",
   "mimetype": "text/x-python",
   "name": "python",
   "nbconvert_exporter": "python",
   "pygments_lexer": "ipython3",
   "version": "3.6.2"
  }
 },
 "nbformat": 4,
 "nbformat_minor": 2
}
