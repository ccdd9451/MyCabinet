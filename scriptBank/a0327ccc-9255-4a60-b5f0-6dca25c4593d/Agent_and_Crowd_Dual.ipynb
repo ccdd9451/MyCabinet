{
 "cells": [
  {
   "cell_type": "markdown",
   "metadata": {},
   "source": [
    "_Data comes from **MIG/DualData**_"
   ]
  },
  {
   "cell_type": "code",
   "execution_count": 14,
   "metadata": {
    "collapsed": true
   },
   "outputs": [],
   "source": [
    "import numpy as np\n",
    "import matplotlib.pyplot as plt\n",
    "import pandas as pd\n",
    "import pdb\n",
    "\n",
    "from collections import namedtuple\n",
    "from argparse import ArgumentParser\n",
    "from path import Path\n",
    "from IPython.display import display"
   ]
  },
  {
   "cell_type": "code",
   "execution_count": 2,
   "metadata": {
    "collapsed": true
   },
   "outputs": [],
   "source": [
    "plt.style.use('ggplot')\n",
    "plt.figure()\n",
    "pd.set_option('display.max_columns', 50)\n",
    "\n",
    "# File name / Environment / Crowd / AI\n",
    "Simset = namedtuple(\"Simset\", [\"Name\",\"Envs\",\"Crowd\",\"AI\"])\n",
    "boolmap = lambda x:bool(int(x))\n",
    "Situs = [\n",
    "    Simset(\"All\", *map(boolmap,\"111\")),\n",
    "    Simset(\"Environment\", *map(boolmap,\"100\")),\n",
    "    Simset(\"Crowd\", *map(boolmap,\"010\")),\n",
    "    Simset(\"AI\", *map(boolmap,\"001\")),\n",
    "]\n",
    "\n",
    "current = Situs[0] "
   ]
  },
  {
   "cell_type": "code",
   "execution_count": 18,
   "metadata": {
    "collapsed": true
   },
   "outputs": [],
   "source": [
    "def parseLogfile(filename):\n",
    "    benchmark = pd.read_table(filename, sep=' ', skiprows=1)\n",
    "    benchmark = benchmark[benchmark[\"frames\"] < benchmark[\"frames\"].max()]\n",
    "    \n",
    "    value_col_names = [\"hashing\", \"time_avg\", \"len_avg\", \"ple_avg\", \"cls_avg\"]\n",
    "    col_names = [col_name for col_name in benchmark.columns if \n",
    "        (col_name.endswith(\"th_obstacle\") and current.Envs) or\n",
    "        (col_name.endswith(\"th_region\") and current.Crowd) or\n",
    "        (col_name.endswith(\"th_ai\") and current.AI)]\n",
    "    \n",
    "    # Modifing & extracting datas\n",
    "    benchmark.loc[:, \"hashing\"] = benchmark[col_names].apply(\n",
    "        lambda x: hash(tuple(x)),axis=1)\n",
    "    benchmark.loc[:, \"time_avg\"] = (\n",
    "        benchmark[\"agent_time_enableds\"].apply(\n",
    "        lambda x: pd.Series(x.strip(\"( )\").split(','), dtype=float).mean()))\n",
    "    benchmark.loc[:, \"len_avg\"] = (\n",
    "        benchmark[\"agent_distance_traveleds\"].apply(\n",
    "        lambda x: pd.Series(x.strip(\"( )\").split(','), dtype=float).mean()))\n",
    "    benchmark.loc[:, \"ple_avg\"] = (\n",
    "        benchmark[\"agent_ple_energys\"].apply(\n",
    "        lambda x: pd.Series(x.strip(\"( )\").split(','), dtype=float).mean()))\n",
    "    benchmark.loc[:, \"cls_avg\"] = (\n",
    "        benchmark[\"collisionTimes\"].apply(\n",
    "        lambda x: pd.Series(x.strip(\"( )\").split(','), dtype=float).mean()))\n",
    "\n",
    "    sampleSet = benchmark[col_names + value_col_names]\n",
    "    sample1, sample2 = sampleSet.iloc[::2], sampleSet.iloc[1::2]\n",
    "\n",
    "    sample1.set_index('hashing', inplace=True)\n",
    "    sample2.set_index('hashing', inplace=True)\n",
    "    \n",
    "    print(\"Dual trail\")\n",
    "    print(\"len of dataset\", len((sample1-sample2).dropna())*2)\n",
    "    print( (sample1-sample2).dropna().apply(np.std, ddof=1)\n",
    "      .loc[value_col_names[1:]].to_frame() )\n",
    "    \n",
    "    print(\"Varience test\")\n",
    "    print(sampleSet.apply(np.std, ddof=1).loc[value_col_names[1:]].to_frame())\n",
    "    \n",
    "    print(\"Mean Value test\")\n",
    "    print(sampleSet.apply(np.mean).loc[value_col_names[1:]].to_frame())"
   ]
  },
  {
   "cell_type": "code",
   "execution_count": 23,
   "metadata": {},
   "outputs": [
    {
     "name": "stdout",
     "output_type": "stream",
     "text": [
      "Dual trail\n",
      "len of dataset 8290\n",
      "                 0\n",
      "time_avg  1.387171\n",
      "len_avg   1.287551\n",
      "ple_avg   5.761329\n",
      "cls_avg   1.479116\n",
      "Varience test\n",
      "                  0\n",
      "time_avg   3.656902\n",
      "len_avg    4.096479\n",
      "ple_avg   14.608961\n",
      "cls_avg    2.236466\n",
      "Mean Value test\n",
      "                   0\n",
      "time_avg  107.380873\n",
      "len_avg   136.671736\n",
      "ple_avg   464.565396\n",
      "cls_avg    14.206392\n"
     ]
    }
   ],
   "source": [
    "parseLogfile(\"MapB-ORCA-Env-d.log\")"
   ]
  },
  {
   "cell_type": "code",
   "execution_count": 10,
   "metadata": {},
   "outputs": [
    {
     "name": "stdout",
     "output_type": "stream",
     "text": [
      "Dual trail\n",
      "len of dataset 9868\n",
      "                 0\n",
      "time_avg  2.564062\n",
      "len_avg   2.331312\n",
      "ple_avg   8.857964\n",
      "cls_avg   4.227187\n",
      "Varience test\n",
      "                  0\n",
      "time_avg  18.638220\n",
      "len_avg    2.961757\n",
      "ple_avg   19.266258\n",
      "cls_avg   11.661674\n",
      "Mean Value test\n",
      "                   0\n",
      "time_avg   89.523919\n",
      "len_avg    93.546332\n",
      "ple_avg   333.187085\n",
      "cls_avg     9.415413\n"
     ]
    }
   ],
   "source": [
    "parseLogfile(\"MapA-SF-Agent-d.log\")"
   ]
  },
  {
   "cell_type": "code",
   "execution_count": 11,
   "metadata": {},
   "outputs": [
    {
     "name": "stdout",
     "output_type": "stream",
     "text": [
      "Dual trail\n",
      "len of dataset 9998\n",
      "                 0\n",
      "time_avg  2.182549\n",
      "len_avg   2.233012\n",
      "ple_avg   8.076097\n",
      "cls_avg   1.804609\n",
      "Varience test\n",
      "                  0\n",
      "time_avg   5.655997\n",
      "len_avg    5.985926\n",
      "ple_avg   21.234999\n",
      "cls_avg    6.100991\n",
      "Mean Value test\n",
      "                   0\n",
      "time_avg   79.115905\n",
      "len_avg    94.983518\n",
      "ple_avg   327.270751\n",
      "cls_avg     6.661552\n"
     ]
    }
   ],
   "source": [
    "parseLogfile(\"MapA-SF-Crowd-d.log\")"
   ]
  },
  {
   "cell_type": "code",
   "execution_count": 19,
   "metadata": {},
   "outputs": [
    {
     "name": "stdout",
     "output_type": "stream",
     "text": [
      "Dual trail\n",
      "len of dataset 7968\n",
      "                 0\n",
      "time_avg  1.372441\n",
      "len_avg   1.362211\n",
      "ple_avg   6.290489\n",
      "cls_avg   1.543701\n",
      "Varience test\n",
      "                  0\n",
      "time_avg  23.426512\n",
      "len_avg    1.042249\n",
      "ple_avg   10.385827\n",
      "cls_avg    1.277279\n",
      "Mean Value test\n",
      "                   0\n",
      "time_avg  101.904491\n",
      "len_avg   134.823127\n",
      "ple_avg   470.036580\n",
      "cls_avg    14.854340\n"
     ]
    }
   ],
   "source": [
    "parseLogfile(\"MapB-ORCA-Agent-d.log\")"
   ]
  },
  {
   "cell_type": "code",
   "execution_count": 22,
   "metadata": {},
   "outputs": [
    {
     "name": "stdout",
     "output_type": "stream",
     "text": [
      "Dual trail\n",
      "len of dataset 9096\n",
      "                 0\n",
      "time_avg  1.301744\n",
      "len_avg   1.205244\n",
      "ple_avg   5.164067\n",
      "cls_avg   1.556686\n",
      "Varience test\n",
      "                  0\n",
      "time_avg   5.992525\n",
      "len_avg    7.101881\n",
      "ple_avg   24.626078\n",
      "cls_avg    3.175731\n",
      "Mean Value test\n",
      "                   0\n",
      "time_avg  105.703014\n",
      "len_avg   134.812412\n",
      "ple_avg   457.793142\n",
      "cls_avg    14.231863\n"
     ]
    }
   ],
   "source": [
    "parseLogfile(\"MapB-ORCA-Crowd-d.log\")"
   ]
  },
  {
   "cell_type": "code",
   "execution_count": null,
   "metadata": {
    "collapsed": true
   },
   "outputs": [],
   "source": []
  }
 ],
 "metadata": {
  "kernelspec": {
   "display_name": "Python 3",
   "language": "python",
   "name": "python3"
  },
  "language_info": {
   "codemirror_mode": {
    "name": "ipython",
    "version": 3
   },
   "file_extension": ".py",
   "mimetype": "text/x-python",
   "name": "python",
   "nbconvert_exporter": "python",
   "pygments_lexer": "ipython3",
   "version": "3.6.3"
  }
 },
 "nbformat": 4,
 "nbformat_minor": 2
}
