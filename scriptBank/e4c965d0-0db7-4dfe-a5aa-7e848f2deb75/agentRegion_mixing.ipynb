{
 "cells": [
  {
   "cell_type": "code",
   "execution_count": 2,
   "metadata": {},
   "outputs": [
    {
     "data": {
      "text/plain": [
       "true"
      ]
     },
     "execution_count": 2,
     "metadata": {},
     "output_type": "execute_result"
    }
   ],
   "source": [
    "require \"nokogiri\""
   ]
  },
  {
   "cell_type": "code",
   "execution_count": 12,
   "metadata": {},
   "outputs": [
    {
     "data": {
      "text/plain": [
       "0"
      ]
     },
     "execution_count": 12,
     "metadata": {},
     "output_type": "execute_result"
    }
   ],
   "source": [
    "xml_string = File.read(\"Revit.xml\")\n",
    "base_xml = Nokogiri.parse xml_string\n",
    "modifying = base_xml.dup\n",
    "\n",
    "modifying.css(\"agentRegion\").each do |i|\n",
    "    i.remove\n",
    "end\n",
    "\n",
    "base_xml.css(\n",
    "  'agentRegion initialConditions radius'\n",
    ").each do |i|\n",
    "  i.content = 0.2\n",
    "end\n"
   ]
  },
  {
   "cell_type": "code",
   "execution_count": 30,
   "metadata": {},
   "outputs": [
    {
     "data": {
      "text/plain": [
       "0"
      ]
     },
     "execution_count": 30,
     "metadata": {},
     "output_type": "execute_result"
    }
   ],
   "source": [
    "base_xml.css('agentRegion').each do |a|\n",
    "  base_xml.css('targetLocation').each do |t|\n",
    "    new_a = a.dup\n",
    "    new_t = t.dup\n",
    "    new_a.at_css('targetLocation').replace new_t\n",
    "    modifying.at_css('SteerBenchTestCase').add_child new_a\n",
    "  end\n",
    "end"
   ]
  },
  {
   "cell_type": "code",
   "execution_count": 39,
   "metadata": {},
   "outputs": [
    {
     "data": {
      "text/plain": [
       "492668"
      ]
     },
     "execution_count": 39,
     "metadata": {},
     "output_type": "execute_result"
    }
   ],
   "source": [
    "File.write('Revit_new.xml', modifying.to_xml)"
   ]
  }
 ],
 "metadata": {
  "kernelspec": {
   "display_name": "Ruby 2.4.1",
   "language": "ruby",
   "name": "ruby"
  },
  "language_info": {
   "file_extension": ".rb",
   "mimetype": "application/x-ruby",
   "name": "ruby",
   "version": "2.4.1"
  }
 },
 "nbformat": 4,
 "nbformat_minor": 2
}
