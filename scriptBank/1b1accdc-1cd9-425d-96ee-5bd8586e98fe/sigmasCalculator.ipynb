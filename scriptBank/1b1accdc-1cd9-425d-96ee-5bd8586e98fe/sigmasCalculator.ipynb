{
 "cells": [
  {
   "cell_type": "markdown",
   "metadata": {},
   "source": [
    "_Data comes from **55c716cb**_"
   ]
  },
  {
   "cell_type": "code",
   "execution_count": 88,
   "metadata": {
    "collapsed": true
   },
   "outputs": [],
   "source": [
    "import numpy as np\n",
    "import matplotlib.pyplot as plt\n",
    "import pandas as pd\n",
    "\n",
    "from collections import namedtuple\n",
    "from argparse import ArgumentParser\n",
    "from path import Path\n",
    "from IPython.display import display"
   ]
  },
  {
   "cell_type": "code",
   "execution_count": 63,
   "metadata": {},
   "outputs": [],
   "source": [
    "plt.style.use('ggplot')\n",
    "plt.figure()\n",
    "pd.set_option('display.max_columns', 50)\n",
    "\n",
    "# File name / Environment / Crowd / AI\n",
    "Simset = namedtuple(\"Simset\", [\"Name\",\"Envs\",\"Crowd\",\"AI\"])\n",
    "boolmap = lambda x:bool(int(x))\n",
    "Situs = [\n",
    "    Simset(\"All\", *map(boolmap,\"111\")),\n",
    "    Simset(\"Environment\", *map(boolmap,\"100\")),\n",
    "    Simset(\"Crowd\", *map(boolmap,\"010\")),\n",
    "    Simset(\"AI\", *map(boolmap,\"001\")),\n",
    "]"
   ]
  },
  {
   "cell_type": "code",
   "execution_count": 68,
   "metadata": {},
   "outputs": [],
   "source": [
    "# Now dealing weth \"Env\" samples.\n",
    "current = Situs[1] \n",
    "path = Path(\"dualData\")\n",
    "files = (path).glob(r\"bench*\") + (path).glob(r\"**\\bench*\")\n",
    "\n",
    "'''\n",
    "def dualDataFileParse(file):\n",
    "    table = pd.read_table(file, sep=' ', skiprows=1)\n",
    "    if len(table) % 2:\n",
    "        table = table.drop(len(table)-1)\n",
    "    return table\n",
    "\n",
    "benchmark = pd.concat(\n",
    "        [dualDataFileParse(file) for file in files],\n",
    "        ignore_index = True)\n",
    "'''\n",
    "benchmark = pd.concat(\n",
    "    [pd.read_table(file, sep=' ', skiprows=1) for file in files],\n",
    "    ignore_index = True)\n",
    "benchmark = benchmark[benchmark[\"frames\"] < benchmark[\"frames\"].max()]\n",
    "\n",
    "\n",
    "\n",
    "col_names = [col_name for col_name in benchmark.columns if \n",
    "    (col_name.endswith(\"th_obstacle\") and current.Envs) or\n",
    "    (col_name.endswith(\"th_region\") and current.Crowd) or\n",
    "    (col_name.endswith(\"th_ai\") and current.AI)]\n",
    "\n"
   ]
  },
  {
   "cell_type": "code",
   "execution_count": 96,
   "metadata": {
    "scrolled": true
   },
   "outputs": [],
   "source": [
    "value_col_names = [\"hashing\", \"time_avg\", \"len_avg\", \"ple_avg\", \"cls_avg\"]\n",
    "\n",
    "# Modifing & extracting datas\n",
    "benchmark.loc[:, \"hashing\"] = benchmark[col_names].apply(\n",
    "    lambda x: hash(tuple(x)),axis=1)\n",
    "benchmark.loc[:, \"time_avg\"] = (\n",
    "    benchmark[\"agent_time_enableds\"].apply(\n",
    "    lambda x: pd.Series(x.strip(\"( )\").split(','), dtype=float).mean()))\n",
    "benchmark.loc[:, \"len_avg\"] = (\n",
    "    benchmark[\"agent_distance_traveleds\"].apply(\n",
    "    lambda x: pd.Series(x.strip(\"( )\").split(','), dtype=float).mean()))\n",
    "benchmark.loc[:, \"ple_avg\"] = (\n",
    "    benchmark[\"agent_ple_energys\"].apply(\n",
    "    lambda x: pd.Series(x.strip(\"( )\").split(','), dtype=float).mean()))\n",
    "benchmark.loc[:, \"cls_avg\"] = (\n",
    "    benchmark[\"collisionTimes\"].apply(\n",
    "    lambda x: pd.Series(x.strip(\"( )\").split(','), dtype=float).mean()))\n",
    "\n",
    "sampleSet = benchmark[col_names + value_col_names]\n",
    "sample1, sample2 = sampleSet.iloc[::2], sampleSet.iloc[1::2]\n",
    "\n",
    "sample1.set_index('hashing', inplace=True)\n",
    "sample2.set_index('hashing', inplace=True)"
   ]
  },
  {
   "cell_type": "code",
   "execution_count": 109,
   "metadata": {
    "scrolled": true
   },
   "outputs": [
    {
     "data": {
      "text/html": [
       "<div>\n",
       "<style>\n",
       "    .dataframe thead tr:only-child th {\n",
       "        text-align: right;\n",
       "    }\n",
       "\n",
       "    .dataframe thead th {\n",
       "        text-align: left;\n",
       "    }\n",
       "\n",
       "    .dataframe tbody tr th {\n",
       "        vertical-align: top;\n",
       "    }\n",
       "</style>\n",
       "<table border=\"1\" class=\"dataframe\">\n",
       "  <thead>\n",
       "    <tr style=\"text-align: right;\">\n",
       "      <th></th>\n",
       "      <th>0</th>\n",
       "    </tr>\n",
       "  </thead>\n",
       "  <tbody>\n",
       "    <tr>\n",
       "      <th>time_avg</th>\n",
       "      <td>2.306196</td>\n",
       "    </tr>\n",
       "    <tr>\n",
       "      <th>len_avg</th>\n",
       "      <td>2.367520</td>\n",
       "    </tr>\n",
       "    <tr>\n",
       "      <th>ple_avg</th>\n",
       "      <td>8.567775</td>\n",
       "    </tr>\n",
       "    <tr>\n",
       "      <th>cls_avg</th>\n",
       "      <td>1.789199</td>\n",
       "    </tr>\n",
       "  </tbody>\n",
       "</table>\n",
       "</div>"
      ],
      "text/plain": [
       "                 0\n",
       "time_avg  2.306196\n",
       "len_avg   2.367520\n",
       "ple_avg   8.567775\n",
       "cls_avg   1.789199"
      ]
     },
     "execution_count": 109,
     "metadata": {},
     "output_type": "execute_result"
    }
   ],
   "source": [
    "( (sample1-sample2).dropna().apply(np.std, ddof=1)\n",
    "  .loc[value_col_names[1:]].to_frame() )"
   ]
  },
  {
   "cell_type": "code",
   "execution_count": 107,
   "metadata": {
    "scrolled": true
   },
   "outputs": [
    {
     "data": {
      "text/html": [
       "<div>\n",
       "<style>\n",
       "    .dataframe thead tr:only-child th {\n",
       "        text-align: right;\n",
       "    }\n",
       "\n",
       "    .dataframe thead th {\n",
       "        text-align: left;\n",
       "    }\n",
       "\n",
       "    .dataframe tbody tr th {\n",
       "        vertical-align: top;\n",
       "    }\n",
       "</style>\n",
       "<table border=\"1\" class=\"dataframe\">\n",
       "  <thead>\n",
       "    <tr style=\"text-align: right;\">\n",
       "      <th></th>\n",
       "      <th>0</th>\n",
       "    </tr>\n",
       "  </thead>\n",
       "  <tbody>\n",
       "    <tr>\n",
       "      <th>time_avg</th>\n",
       "      <td>5.360904</td>\n",
       "    </tr>\n",
       "    <tr>\n",
       "      <th>len_avg</th>\n",
       "      <td>6.803995</td>\n",
       "    </tr>\n",
       "    <tr>\n",
       "      <th>ple_avg</th>\n",
       "      <td>22.930685</td>\n",
       "    </tr>\n",
       "    <tr>\n",
       "      <th>cls_avg</th>\n",
       "      <td>2.706892</td>\n",
       "    </tr>\n",
       "  </tbody>\n",
       "</table>\n",
       "</div>"
      ],
      "text/plain": [
       "                  0\n",
       "time_avg   5.360904\n",
       "len_avg    6.803995\n",
       "ple_avg   22.930685\n",
       "cls_avg    2.706892"
      ]
     },
     "execution_count": 107,
     "metadata": {},
     "output_type": "execute_result"
    }
   ],
   "source": [
    "sampleSet.apply(np.std, ddof=1).loc[value_col_names[1:]].to_frame()"
   ]
  }
 ],
 "metadata": {
  "kernelspec": {
   "display_name": "Python 3",
   "language": "python",
   "name": "python3"
  },
  "language_info": {
   "codemirror_mode": {
    "name": "ipython",
    "version": 3
   },
   "file_extension": ".py",
   "mimetype": "text/x-python",
   "name": "python",
   "nbconvert_exporter": "python",
   "pygments_lexer": "ipython3",
   "version": "3.6.1"
  }
 },
 "nbformat": 4,
 "nbformat_minor": 2
}
